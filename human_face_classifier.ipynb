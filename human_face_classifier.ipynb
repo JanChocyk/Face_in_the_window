{
  "nbformat": 4,
  "nbformat_minor": 0,
  "metadata": {
    "colab": {
      "provenance": [],
      "gpuType": "T4",
      "mount_file_id": "1Y1TUXoBS-G3YXT9NfG8iC_scjCKgwFpr",
      "authorship_tag": "ABX9TyN9I82aPZf4a0cZjuz4Naa/",
      "include_colab_link": true
    },
    "kernelspec": {
      "name": "python3",
      "display_name": "Python 3"
    },
    "language_info": {
      "name": "python"
    },
    "accelerator": "GPU"
  },
  "cells": [
    {
      "cell_type": "markdown",
      "metadata": {
        "id": "view-in-github",
        "colab_type": "text"
      },
      "source": [
        "<a href=\"https://colab.research.google.com/github/JanChocyk/Face_in_the_window/blob/master/human_face_classifier.ipynb\" target=\"_parent\"><img src=\"https://colab.research.google.com/assets/colab-badge.svg\" alt=\"Open In Colab\"/></a>"
      ]
    },
    {
      "cell_type": "markdown",
      "source": [
        "### Owerview\n",
        "In this notebook, I build, train and test my own model that classifies the human face for use in the game \"Face in the window\".\n",
        "\n",
        "I will use a pre-trained model and transfer learning technique to get a classifier for the problem of recognizing two categories: human face or something else.\n",
        "\n",
        "I'll load the model from TF Hub, then add an output layer appropriate to our problem. Then I will train the model on the previously prepared dataset.\n",
        "\n",
        "Let's start!"
      ],
      "metadata": {
        "id": "OjhTjsIdISZT"
      }
    },
    {
      "cell_type": "markdown",
      "source": [
        "### Imports"
      ],
      "metadata": {
        "id": "742n0qb8I5qi"
      }
    },
    {
      "cell_type": "code",
      "source": [
        "import numpy as np\n",
        "import PIL.Image as Image\n",
        "import tensorflow as tf\n",
        "import tensorflow_hub as hub\n",
        "import matplotlib.pyplot as plt\n",
        "import pandas as pd\n",
        "import plotly.graph_objects as go\n",
        "from datetime import datetime\n",
        "import os\n",
        "print(f'Tensorflow version: {tf.__version__}')\n",
        "print(f'Tensorflow Hub version: {hub.__version__}')"
      ],
      "metadata": {
        "colab": {
          "base_uri": "https://localhost:8080/"
        },
        "id": "qh84ajngxH4c",
        "outputId": "9a7c82a2-5b3b-43f5-d270-1bb73a34a6ee"
      },
      "execution_count": 1,
      "outputs": [
        {
          "output_type": "stream",
          "name": "stdout",
          "text": [
            "Tensorflow version: 2.12.0\n",
            "Tensorflow Hub version: 0.14.0\n"
          ]
        }
      ]
    },
    {
      "cell_type": "markdown",
      "source": [
        "### Prepare data and augmentation\n"
      ],
      "metadata": {
        "id": "ddMt59CK0Rw3"
      }
    },
    {
      "cell_type": "code",
      "source": [
        "data_train_dir = \"/content/drive/MyDrive/Colab Notebooks/face_in_the_window/data/data_train\"\n",
        "data_test_dir = \"/content/drive/MyDrive/Colab Notebooks/face_in_the_window/data/data_test\"\n"
      ],
      "metadata": {
        "id": "19eTsuhlVvcl"
      },
      "execution_count": null,
      "outputs": []
    },
    {
      "cell_type": "code",
      "source": [
        "IMG_SIZE = 224\n",
        "\n",
        "normalization_layer = tf.keras.layers.Rescaling(1./255)"
      ],
      "metadata": {
        "id": "lYgdUHQb0ObM"
      },
      "execution_count": null,
      "outputs": []
    },
    {
      "cell_type": "code",
      "source": [
        "data_augmentation = tf.keras.Sequential([\n",
        "  tf.keras.layers.RandomFlip(\"horizontal_and_vertical\"),\n",
        "  tf.keras.layers.RandomRotation(0.2),\n",
        "])"
      ],
      "metadata": {
        "id": "zfRfyL7-02Er"
      },
      "execution_count": null,
      "outputs": []
    },
    {
      "cell_type": "code",
      "source": [
        "batch_size = 32\n",
        "img_height = 224\n",
        "img_width = 224\n",
        "\n",
        "train_ds = tf.keras.utils.image_dataset_from_directory(\n",
        "    data_train_dir,\n",
        "    validation_split=0.2,\n",
        "    subset=\"training\",\n",
        "    seed=123,\n",
        "    image_size=(img_height, img_width),\n",
        "    batch_size=batch_size,\n",
        "    label_mode='categorical')\n",
        "\n",
        "val_ds = tf.keras.utils.image_dataset_from_directory(\n",
        "    data_train_dir,\n",
        "    validation_split=0.2,\n",
        "    subset=\"validation\",\n",
        "    seed=123,\n",
        "    image_size=(img_height, img_width),\n",
        "    batch_size=batch_size,\n",
        "    label_mode='categorical')"
      ],
      "metadata": {
        "id": "rZwAyILs2IkC",
        "colab": {
          "base_uri": "https://localhost:8080/"
        },
        "outputId": "0edf8dcc-bc4c-4c9a-e67b-6fc850f8d162"
      },
      "execution_count": null,
      "outputs": [
        {
          "output_type": "stream",
          "name": "stdout",
          "text": [
            "Found 4637 files belonging to 2 classes.\n",
            "Using 3710 files for training.\n",
            "Found 4637 files belonging to 2 classes.\n",
            "Using 927 files for validation.\n"
          ]
        }
      ]
    },
    {
      "cell_type": "code",
      "source": [
        "class_names = train_ds.class_names\n",
        "print(class_names)"
      ],
      "metadata": {
        "id": "QTNDiWh325NV",
        "colab": {
          "base_uri": "https://localhost:8080/"
        },
        "outputId": "54fe836e-a90c-4d4c-a48a-39c5be36ffd0"
      },
      "execution_count": null,
      "outputs": [
        {
          "output_type": "stream",
          "name": "stdout",
          "text": [
            "['face', 'no_face']\n"
          ]
        }
      ]
    },
    {
      "cell_type": "markdown",
      "source": [
        "### Prepare Model\n",
        "- load pre-trainned model\n",
        "- set output layer\n",
        "- compile and summary model"
      ],
      "metadata": {
        "id": "1m0mLJ5ZzwmU"
      }
    },
    {
      "cell_type": "code",
      "execution_count": null,
      "metadata": {
        "id": "rfZefRBTIpij"
      },
      "outputs": [],
      "source": [
        "feature_extractor_url = \"https://tfhub.dev/tensorflow/efficientnet/b0/feature-vector/1\"\n",
        "IMAGE_SHAPE = (224, 224)\n",
        "\n",
        "feature_extractor_layer = hub.KerasLayer(\n",
        "    feature_extractor_url,\n",
        "    input_shape=IMAGE_SHAPE+(3,)\n",
        ")\n",
        "\n",
        "# zamrażamy wagi ekstraktora\n",
        "feature_extractor_layer.trainable = False"
      ]
    },
    {
      "cell_type": "code",
      "source": [
        "# budujemy model dokładając ostatnią warstwę klasyfikacji\n",
        "model = tf.keras.Sequential([\n",
        "  normalization_layer,\n",
        "  data_augmentation,\n",
        "  feature_extractor_layer,\n",
        "  tf.keras.layers.Dense(2, activation='softmax')\n",
        "])\n",
        "\n",
        "model.build([None, 224, 224, 3])\n",
        "\n",
        "model.compile(\n",
        "    optimizer='adam',\n",
        "    loss='categorical_crossentropy',\n",
        "    metrics=['accuracy']\n",
        ")\n",
        "\n",
        "model.summary()"
      ],
      "metadata": {
        "colab": {
          "base_uri": "https://localhost:8080/"
        },
        "id": "ff0enF5rI8mp",
        "outputId": "4497aeaf-0683-4c78-ef48-422eb0c02f08"
      },
      "execution_count": null,
      "outputs": [
        {
          "output_type": "stream",
          "name": "stdout",
          "text": [
            "Model: \"sequential_2\"\n",
            "_________________________________________________________________\n",
            " Layer (type)                Output Shape              Param #   \n",
            "=================================================================\n",
            " rescaling (Rescaling)       (None, 224, 224, 3)       0         \n",
            "                                                                 \n",
            " sequential (Sequential)     (None, 224, 224, 3)       0         \n",
            "                                                                 \n",
            " keras_layer (KerasLayer)    (None, 1280)              4049564   \n",
            "                                                                 \n",
            " dense_1 (Dense)             (None, 2)                 2562      \n",
            "                                                                 \n",
            "=================================================================\n",
            "Total params: 4,052,126\n",
            "Trainable params: 2,562\n",
            "Non-trainable params: 4,049,564\n",
            "_________________________________________________________________\n"
          ]
        }
      ]
    },
    {
      "cell_type": "markdown",
      "source": [
        "### Traning model"
      ],
      "metadata": {
        "id": "R219KE_r4ZR3"
      }
    },
    {
      "cell_type": "code",
      "source": [
        "epochs = 1\n",
        "dt = datetime.now().strftime('%d_%m_%Y_%H_%M')\n",
        "output_dir = '/content/drive/MyDrive/Colab Notebooks/face_in_the_window/output'\n",
        "\n",
        "# Zapisz model w formacie TensorFlow SavedModel przy użyciu ModelCheckpoint\n",
        "checkpoint = tf.keras.callbacks.ModelCheckpoint(\n",
        "    filepath=os.path.join(output_dir, 'best_model_', dt),  # Folder zapisu modelu\n",
        "    monitor='val_accuracy',\n",
        "    save_best_only=True,\n",
        "    save_format='tf'  # Zapisz w formacie SavedModel\n",
        ")\n",
        "\n",
        "history = model.fit(train_ds,\n",
        "                    validation_data=val_ds,\n",
        "                    epochs=epochs,\n",
        "                    callbacks = [checkpoint])"
      ],
      "metadata": {
        "id": "6s-y9xRh4Y2l",
        "colab": {
          "base_uri": "https://localhost:8080/"
        },
        "outputId": "03d50242-5490-409a-a877-6fb770196745"
      },
      "execution_count": null,
      "outputs": [
        {
          "output_type": "stream",
          "name": "stdout",
          "text": [
            "116/116 [==============================] - 1464s 13s/step - loss: 0.0783 - accuracy: 0.9763 - val_loss: 0.0636 - val_accuracy: 0.9795\n"
          ]
        }
      ]
    },
    {
      "cell_type": "markdown",
      "source": [
        "### Visualization training process"
      ],
      "metadata": {
        "id": "vd15VKSp4S2_"
      }
    },
    {
      "cell_type": "code",
      "source": [
        "acc = history.history['accuracy']\n",
        "val_acc = history.history['val_accuracy']\n",
        "\n",
        "loss = history.history['loss']\n",
        "val_loss = history.history['val_loss']\n",
        "\n",
        "epochs_range = range(epochs)\n",
        "\n",
        "plt.figure(figsize=(8, 8))\n",
        "plt.subplot(1, 2, 1)\n",
        "plt.plot(epochs_range, acc, label='Training Accuracy')\n",
        "plt.plot(epochs_range, val_acc, label='Validation Accuracy')\n",
        "plt.legend(loc='lower right')\n",
        "plt.title('Training and Validation Accuracy')\n",
        "\n",
        "plt.subplot(1, 2, 2)\n",
        "plt.plot(epochs_range, loss, label='Training Loss')\n",
        "plt.plot(epochs_range, val_loss, label='Validation Loss')\n",
        "plt.legend(loc='upper right')\n",
        "plt.title('Training and Validation Loss')\n",
        "plt.show()"
      ],
      "metadata": {
        "id": "35lGYZTsJF1f",
        "colab": {
          "base_uri": "https://localhost:8080/",
          "height": 699
        },
        "outputId": "b598f197-1ad6-465d-e974-c0794de9bcc4"
      },
      "execution_count": null,
      "outputs": [
        {
          "output_type": "display_data",
          "data": {
            "text/plain": [
              "<Figure size 800x800 with 2 Axes>"
            ],
            "image/png": "[encoded data removed]"
          },
          "metadata": {}
        }
      ]
    },
    {
      "cell_type": "markdown",
      "source": [
        "### Evaluation and prodiction"
      ],
      "metadata": {
        "id": "vrminnwpASTj"
      }
    },
    {
      "cell_type": "code",
      "source": [
        "test_ds = tf.keras.utils.image_dataset_from_directory(\n",
        "    data_test_dir,\n",
        "    seed=123,\n",
        "    image_size=(img_height, img_width),\n",
        "    batch_size=batch_size)\n",
        "\n",
        "loss, accuracy = model.evaluate(test_ds)\n",
        "print('Test accuracy :', accuracy)"
      ],
      "metadata": {
        "id": "D8iJiep3JRW_",
        "colab": {
          "base_uri": "https://localhost:8080/"
        },
        "outputId": "76e0d5e8-0e4d-44aa-be2c-4895875236dc"
      },
      "execution_count": null,
      "outputs": [
        {
          "output_type": "stream",
          "name": "stdout",
          "text": [
            "Found 463 files belonging to 2 classes.\n",
            "15/15 [==============================] - 27s 764ms/step - loss: 0.0164 - accuracy: 1.0000\n",
            "Test accuracy : 1.0\n"
          ]
        }
      ]
    },
    {
      "cell_type": "code",
      "source": [],
      "metadata": {
        "id": "FmrlGP-oJbbe"
      },
      "execution_count": null,
      "outputs": []
    },
    {
      "cell_type": "markdown",
      "source": [
        "### Test Clasiffication"
      ],
      "metadata": {
        "id": "jJ3NNxBSDfEK"
      }
    },
    {
      "cell_type": "code",
      "source": [
        "import cv2\n",
        "\n",
        "model_path = '/content/drive/MyDrive/Colab Notebooks/face_in_the_window/output/best_model_/28_08_2023_11_14'\n",
        "\n",
        "loaded_model = tf.keras.models.load_model(model_path)\n",
        "\n",
        "input_image = '/content/COCO_train2014_000000000078.jpg'\n",
        "\n",
        "image_array = cv2.imread(input_image)\n",
        "image_array = cv2.resize(image_array, (224, 224))\n",
        "\n",
        "# Przygotowanie jednego przykładu obrazu\n",
        "image_array = tf.expand_dims(image_array, 0)\n",
        "\n",
        "predictions = loaded_model.predict(image_array)\n",
        "print(predictions)"
      ],
      "metadata": {
        "id": "0adbvkpyDjGp",
        "colab": {
          "base_uri": "https://localhost:8080/"
        },
        "outputId": "ac56579a-ff8d-429d-82f2-3fc3432aaa19"
      },
      "execution_count": 3,
      "outputs": [
        {
          "output_type": "stream",
          "name": "stdout",
          "text": [
            "1/1 [==============================] - 8s 8s/step\n",
            "[[0.03363881 0.9663612 ]]\n"
          ]
        }
      ]
    },
    {
      "cell_type": "code",
      "source": [
        "input_image = '/content/COCO_train2014_000000000322.jpg'\n",
        "\n",
        "image_array = cv2.imread(input_image)\n",
        "image_array = cv2.resize(image_array, (224, 224))\n",
        "\n",
        "\n",
        "# Przygotowanie jednego przykładu obrazu\n",
        "image_array = tf.expand_dims(image_array, 0)\n",
        "\n",
        "predictions = loaded_model.predict(image_array)\n",
        "print(predictions)"
      ],
      "metadata": {
        "id": "640JLaBR24O-",
        "colab": {
          "base_uri": "https://localhost:8080/"
        },
        "outputId": "5cbbcb1c-cd81-408a-f4ae-79ad1b4e9620"
      },
      "execution_count": 5,
      "outputs": [
        {
          "output_type": "stream",
          "name": "stdout",
          "text": [
            "1/1 [==============================] - 0s 26ms/step\n",
            "[[0.00307818 0.99692184]]\n"
          ]
        }
      ]
    },
    {
      "cell_type": "code",
      "source": [],
      "metadata": {
        "id": "cgMXWNJFw96i"
      },
      "execution_count": null,
      "outputs": []
    }
  ]
}