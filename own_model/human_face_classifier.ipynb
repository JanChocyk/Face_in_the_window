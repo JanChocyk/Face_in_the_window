{
  "nbformat": 4,
  "nbformat_minor": 0,
  "metadata": {
    "colab": {
      "provenance": [],
      "gpuType": "T4",
      "mount_file_id": "1Y1TUXoBS-G3YXT9NfG8iC_scjCKgwFpr",
      "authorship_tag": "ABX9TyOhRr1wzuqsKx9VyRGMSXj2",
      "include_colab_link": true
    },
    "kernelspec": {
      "name": "python3",
      "display_name": "Python 3"
    },
    "language_info": {
      "name": "python"
    },
    "accelerator": "GPU"
  },
  "cells": [
    {
      "cell_type": "markdown",
      "metadata": {
        "id": "view-in-github",
        "colab_type": "text"
      },
      "source": [
        "<a href=\"https://colab.research.google.com/github/JanChocyk/Face_in_the_window/blob/master/human_face_classifier.ipynb\" target=\"_parent\"><img src=\"https://colab.research.google.com/assets/colab-badge.svg\" alt=\"Open In Colab\"/></a>"
      ]
    },
    {
      "cell_type": "markdown",
      "source": [
        "### Owerview\n",
        "In this notebook, I build, train and test my own model that classifies the human face for use in the game \"Face in the window\".\n",
        "\n",
        "I will use a pre-trained model and transfer learning technique to get a classifier for the problem of recognizing two categories: human face or something else.\n",
        "\n",
        "I'll load the model from TF Hub, then add an output layer appropriate to our problem. Then I will train the model on the previously prepared dataset.\n",
        "\n",
        "Let's start!"
      ],
      "metadata": {
        "id": "OjhTjsIdISZT"
      }
    },
    {
      "cell_type": "markdown",
      "source": [
        "### Imports"
      ],
      "metadata": {
        "id": "742n0qb8I5qi"
      }
    },
    {
      "cell_type": "code",
      "source": [
        "import numpy as np\n",
        "import PIL.Image as Image\n",
        "import tensorflow as tf\n",
        "import tensorflow_hub as hub\n",
        "import matplotlib.pyplot as plt\n",
        "import pandas as pd\n",
        "import plotly.graph_objects as go\n",
        "from datetime import datetime\n",
        "import os\n",
        "print(f'Tensorflow version: {tf.__version__}')\n",
        "print(f'Tensorflow Hub version: {hub.__version__}')"
      ],
      "metadata": {
        "colab": {
          "base_uri": "https://localhost:8080/"
        },
        "id": "qh84ajngxH4c",
        "outputId": "c391d499-90ed-4eaa-b301-5a713e735068"
      },
      "execution_count": 5,
      "outputs": [
        {
          "output_type": "stream",
          "name": "stdout",
          "text": [
            "Tensorflow version: 2.12.0\n",
            "Tensorflow Hub version: 0.14.0\n"
          ]
        }
      ]
    },
    {
      "cell_type": "markdown",
      "source": [
        "### Prepare data and augmentation\n"
      ],
      "metadata": {
        "id": "ddMt59CK0Rw3"
      }
    },
    {
      "cell_type": "code",
      "source": [
        "data_train_dir = \"/content/drive/MyDrive/Colab Notebooks/face_in_the_window/data/data_train\"\n",
        "data_test_dir = \"/content/drive/MyDrive/Colab Notebooks/face_in_the_window/data/data_test\"\n"
      ],
      "metadata": {
        "id": "19eTsuhlVvcl"
      },
      "execution_count": 6,
      "outputs": []
    },
    {
      "cell_type": "code",
      "source": [
        "IMG_SIZE = 224\n",
        "\n",
        "normalization_layer = tf.keras.layers.Rescaling(1./255)"
      ],
      "metadata": {
        "id": "lYgdUHQb0ObM"
      },
      "execution_count": 7,
      "outputs": []
    },
    {
      "cell_type": "code",
      "source": [
        "data_augmentation = tf.keras.Sequential([\n",
        "  tf.keras.layers.RandomFlip(\"horizontal_and_vertical\"),\n",
        "  tf.keras.layers.RandomRotation(0.2),\n",
        "])"
      ],
      "metadata": {
        "id": "zfRfyL7-02Er"
      },
      "execution_count": 8,
      "outputs": []
    },
    {
      "cell_type": "code",
      "source": [
        "batch_size = 32\n",
        "img_height = 224\n",
        "img_width = 224\n",
        "\n",
        "train_ds = tf.keras.utils.image_dataset_from_directory(\n",
        "    data_train_dir,\n",
        "    validation_split=0.2,\n",
        "    subset=\"training\",\n",
        "    seed=123,\n",
        "    image_size=(img_height, img_width),\n",
        "    batch_size=batch_size,\n",
        "    label_mode='categorical')\n",
        "\n",
        "val_ds = tf.keras.utils.image_dataset_from_directory(\n",
        "    data_train_dir,\n",
        "    validation_split=0.2,\n",
        "    subset=\"validation\",\n",
        "    seed=123,\n",
        "    image_size=(img_height, img_width),\n",
        "    batch_size=batch_size,\n",
        "    label_mode='categorical')"
      ],
      "metadata": {
        "id": "rZwAyILs2IkC",
        "colab": {
          "base_uri": "https://localhost:8080/"
        },
        "outputId": "31721f97-62fb-4266-abc8-0897c7b7258d"
      },
      "execution_count": 9,
      "outputs": [
        {
          "output_type": "stream",
          "name": "stdout",
          "text": [
            "Found 4637 files belonging to 2 classes.\n",
            "Using 3710 files for training.\n",
            "Found 4637 files belonging to 2 classes.\n",
            "Using 927 files for validation.\n"
          ]
        }
      ]
    },
    {
      "cell_type": "code",
      "source": [
        "class_names = train_ds.class_names\n",
        "print(class_names)"
      ],
      "metadata": {
        "id": "QTNDiWh325NV",
        "colab": {
          "base_uri": "https://localhost:8080/"
        },
        "outputId": "3b49d046-ae29-46fa-a4ee-306dbac5ce8a"
      },
      "execution_count": 10,
      "outputs": [
        {
          "output_type": "stream",
          "name": "stdout",
          "text": [
            "['face', 'no_face']\n"
          ]
        }
      ]
    },
    {
      "cell_type": "markdown",
      "source": [
        "### Prepare Model\n",
        "- load pre-trainned model\n",
        "- set output layer\n",
        "- compile and summary model"
      ],
      "metadata": {
        "id": "1m0mLJ5ZzwmU"
      }
    },
    {
      "cell_type": "code",
      "execution_count": 12,
      "metadata": {
        "id": "rfZefRBTIpij"
      },
      "outputs": [],
      "source": [
        "feature_extractor_url = \"https://tfhub.dev/tensorflow/efficientnet/b0/feature-vector/1\"\n",
        "IMAGE_SHAPE = (224, 224)\n",
        "\n",
        "feature_extractor_layer = hub.KerasLayer(\n",
        "    feature_extractor_url,\n",
        "    input_shape=IMAGE_SHAPE+(3,)\n",
        ")\n",
        "\n",
        "feature_extractor_layer.trainable = False"
      ]
    },
    {
      "cell_type": "code",
      "source": [
        "model = tf.keras.Sequential([\n",
        "  normalization_layer,\n",
        "  data_augmentation,\n",
        "  feature_extractor_layer,\n",
        "  tf.keras.layers.Dense(2, activation='softmax')\n",
        "])\n",
        "\n",
        "model.build([None, 224, 224, 3])\n",
        "\n",
        "model.compile(\n",
        "    optimizer='adam',\n",
        "    loss='categorical_crossentropy',\n",
        "    metrics=['accuracy']\n",
        ")\n",
        "\n",
        "model.summary()"
      ],
      "metadata": {
        "colab": {
          "base_uri": "https://localhost:8080/"
        },
        "id": "ff0enF5rI8mp",
        "outputId": "ec4fd66a-2c4d-4c7d-ae4a-3545fda98586"
      },
      "execution_count": 13,
      "outputs": [
        {
          "output_type": "stream",
          "name": "stdout",
          "text": [
            "Model: \"sequential_1\"\n",
            "_________________________________________________________________\n",
            " Layer (type)                Output Shape              Param #   \n",
            "=================================================================\n",
            " rescaling (Rescaling)       (None, 224, 224, 3)       0         \n",
            "                                                                 \n",
            " sequential (Sequential)     (None, 224, 224, 3)       0         \n",
            "                                                                 \n",
            " keras_layer_1 (KerasLayer)  (None, 1280)              4049564   \n",
            "                                                                 \n",
            " dense (Dense)               (None, 2)                 2562      \n",
            "                                                                 \n",
            "=================================================================\n",
            "Total params: 4,052,126\n",
            "Trainable params: 2,562\n",
            "Non-trainable params: 4,049,564\n",
            "_________________________________________________________________\n"
          ]
        }
      ]
    },
    {
      "cell_type": "markdown",
      "source": [
        "### Traning model"
      ],
      "metadata": {
        "id": "R219KE_r4ZR3"
      }
    },
    {
      "cell_type": "code",
      "source": [
        "epochs = 5\n",
        "dt = datetime.now().strftime('%d_%m_%Y_%H_%M')\n",
        "output_dir = '/content/drive/MyDrive/Colab Notebooks/face_in_the_window/output'\n",
        "\n",
        "checkpoint = tf.keras.callbacks.ModelCheckpoint(\n",
        "    filepath=os.path.join(output_dir, 'best_model_', dt),\n",
        "    monitor='val_accuracy',\n",
        "    save_best_only=True,\n",
        "    save_format='tf'\n",
        ")\n",
        "\n",
        "history = model.fit(train_ds,\n",
        "                    validation_data=val_ds,\n",
        "                    epochs=epochs,\n",
        "                    callbacks = [checkpoint])"
      ],
      "metadata": {
        "id": "6s-y9xRh4Y2l",
        "colab": {
          "base_uri": "https://localhost:8080/"
        },
        "outputId": "1a8b2732-acb0-4117-c797-08edd85749bd"
      },
      "execution_count": 14,
      "outputs": [
        {
          "output_type": "stream",
          "name": "stdout",
          "text": [
            "Epoch 1/5\n",
            "116/116 [==============================] - 1684s 14s/step - loss: 0.0868 - accuracy: 0.9733 - val_loss: 0.0710 - val_accuracy: 0.9730\n",
            "Epoch 2/5\n",
            "116/116 [==============================] - 43s 356ms/step - loss: 0.0170 - accuracy: 0.9984 - val_loss: 0.0487 - val_accuracy: 0.9827\n",
            "Epoch 3/5\n",
            "116/116 [==============================] - 44s 375ms/step - loss: 0.0105 - accuracy: 0.9987 - val_loss: 0.0376 - val_accuracy: 0.9849\n",
            "Epoch 4/5\n",
            "116/116 [==============================] - 42s 358ms/step - loss: 0.0078 - accuracy: 0.9989 - val_loss: 0.0305 - val_accuracy: 0.9914\n",
            "Epoch 5/5\n",
            "116/116 [==============================] - 41s 345ms/step - loss: 0.0056 - accuracy: 0.9995 - val_loss: 0.0252 - val_accuracy: 0.9946\n"
          ]
        }
      ]
    },
    {
      "cell_type": "markdown",
      "source": [
        "### Visualization training process"
      ],
      "metadata": {
        "id": "vd15VKSp4S2_"
      }
    },
    {
      "cell_type": "code",
      "source": [
        "acc = history.history['accuracy']\n",
        "val_acc = history.history['val_accuracy']\n",
        "\n",
        "loss = history.history['loss']\n",
        "val_loss = history.history['val_loss']\n",
        "\n",
        "epochs_range = range(epochs)\n",
        "\n",
        "plt.figure(figsize=(8, 8))\n",
        "plt.subplot(1, 2, 1)\n",
        "plt.plot(epochs_range, acc, label='Training Accuracy')\n",
        "plt.plot(epochs_range, val_acc, label='Validation Accuracy')\n",
        "plt.legend(loc='lower right')\n",
        "plt.title('Training and Validation Accuracy')\n",
        "\n",
        "plt.subplot(1, 2, 2)\n",
        "plt.plot(epochs_range, loss, label='Training Loss')\n",
        "plt.plot(epochs_range, val_loss, label='Validation Loss')\n",
        "plt.legend(loc='upper right')\n",
        "plt.title('Training and Validation Loss')\n",
        "plt.show()"
      ],
      "metadata": {
        "id": "35lGYZTsJF1f",
        "colab": {
          "base_uri": "https://localhost:8080/",
          "height": 699
        },
        "outputId": "ddf58a73-fe7e-4454-f6e0-eceecd3c61d9"
      },
      "execution_count": 15,
      "outputs": [
        {
          "output_type": "display_data",
          "data": {
            "text/plain": [
              "<Figure size 800x800 with 2 Axes>"
            ],
            "image/png": "[encoded data removed]"
          },
          "metadata": {}
        }
      ]
    },
    {
      "cell_type": "markdown",
      "source": [
        "### Evaluation and prodiction"
      ],
      "metadata": {
        "id": "vrminnwpASTj"
      }
    },
    {
      "cell_type": "code",
      "source": [
        "test_ds = tf.keras.utils.image_dataset_from_directory(\n",
        "    data_test_dir,\n",
        "    image_size=(img_height, img_width),\n",
        "    batch_size=batch_size,\n",
        "    label_mode='categorical'\n",
        "    )\n",
        "\n",
        "test_accuracy = model.evaluate(test_ds)\n",
        "print('Test accuracy :', test_accuracy[0])"
      ],
      "metadata": {
        "id": "D8iJiep3JRW_",
        "colab": {
          "base_uri": "https://localhost:8080/"
        },
        "outputId": "2caf2982-3842-4e02-d4dd-85f098997551"
      },
      "execution_count": 18,
      "outputs": [
        {
          "output_type": "stream",
          "name": "stdout",
          "text": [
            "Found 463 files belonging to 2 classes.\n",
            "15/15 [==============================] - 125s 3s/step - loss: 0.0149 - accuracy: 1.0000\n",
            "Test accuracy : 0.014872047118842602\n"
          ]
        }
      ]
    },
    {
      "cell_type": "code",
      "source": [
        "print('Test accuracy :', test_accuracy[1])"
      ],
      "metadata": {
        "id": "FmrlGP-oJbbe",
        "colab": {
          "base_uri": "https://localhost:8080/"
        },
        "outputId": "96094401-2a8a-4ef3-a008-f98d84ce3681"
      },
      "execution_count": 19,
      "outputs": [
        {
          "output_type": "stream",
          "name": "stdout",
          "text": [
            "Test accuracy : 1.0\n"
          ]
        }
      ]
    },
    {
      "cell_type": "code",
      "source": [],
      "metadata": {
        "colab": {
          "base_uri": "https://localhost:8080/"
        },
        "id": "wOCvjiJV5bAK",
        "outputId": "7390c583-026d-4b3e-b355-cc2610ac5b3c"
      },
      "execution_count": 20,
      "outputs": [
        {
          "output_type": "execute_result",
          "data": {
            "text/plain": [
              "[<keras.layers.preprocessing.image_preprocessing.Rescaling at 0x7b8d54311d80>,\n",
              " <keras.engine.sequential.Sequential at 0x7b8d54310160>,\n",
              " <tensorflow_hub.keras_layer.KerasLayer at 0x7b8d55021750>,\n",
              " <keras.layers.core.dense.Dense at 0x7b8d3efa9570>]"
            ]
          },
          "metadata": {},
          "execution_count": 20
        }
      ]
    },
    {
      "cell_type": "code",
      "source": [],
      "metadata": {
        "id": "y6y08BUy5dn9"
      },
      "execution_count": null,
      "outputs": []
    },
    {
      "cell_type": "markdown",
      "source": [
        "### Test Clasiffication"
      ],
      "metadata": {
        "id": "jJ3NNxBSDfEK"
      }
    },
    {
      "cell_type": "code",
      "source": [
        "import cv2\n",
        "\n",
        "model_path = '/content/drive/MyDrive/Colab Notebooks/face_in_the_window/output/best_model_/30_08_2023_09_01'\n",
        "loaded_model = tf.keras.models.load_model(model_path)\n",
        "\n",
        "input_image = '/content/COCO_train2014_000000133225.jpg'\n",
        "\n",
        "image_array = cv2.imread(input_image)\n",
        "image_array = cv2.resize(image_array, (224, 224))\n",
        "\n",
        "image_array = tf.expand_dims(image_array, 0)\n",
        "\n",
        "classes = ['face', 'no_face']\n",
        "\n",
        "predictions = loaded_model.predict(image_array)\n",
        "predicted_class_index = tf.argmax(predictions[0])\n",
        "predicted_class_name = classes[predicted_class_index]\n",
        "\n",
        "print(predicted_class_name)"
      ],
      "metadata": {
        "id": "0adbvkpyDjGp",
        "colab": {
          "base_uri": "https://localhost:8080/"
        },
        "outputId": "147cb000-7fb0-4819-f382-4a97d8cec915"
      },
      "execution_count": 23,
      "outputs": [
        {
          "output_type": "stream",
          "name": "stdout",
          "text": [
            "1/1 [==============================] - 1s 1s/step\n",
            "no_face\n"
          ]
        }
      ]
    },
    {
      "cell_type": "code",
      "source": [],
      "metadata": {
        "colab": {
          "base_uri": "https://localhost:8080/"
        },
        "id": "cmp30XyD7hoU",
        "outputId": "8c42ac2a-32ec-4107-bdd1-7f4aded4aa90"
      },
      "execution_count": 24,
      "outputs": [
        {
          "output_type": "execute_result",
          "data": {
            "text/plain": [
              "array([[0.0276134, 0.9723866]], dtype=float32)"
            ]
          },
          "metadata": {},
          "execution_count": 24
        }
      ]
    },
    {
      "cell_type": "code",
      "source": [],
      "metadata": {
        "id": "640JLaBR24O-",
        "colab": {
          "base_uri": "https://localhost:8080/",
          "height": 245
        },
        "outputId": "2df3ae26-d025-4dc6-fa63-496eca3238b2"
      },
      "execution_count": 22,
      "outputs": [
        {
          "output_type": "error",
          "ename": "error",
          "evalue": "ignored",
          "traceback": [
            "\u001b[0;31m---------------------------------------------------------------------------\u001b[0m",
            "\u001b[0;31merror\u001b[0m                                     Traceback (most recent call last)",
            "\u001b[0;32m<ipython-input-22-c3dee6de9b84>\u001b[0m in \u001b[0;36m<cell line: 4>\u001b[0;34m()\u001b[0m\n\u001b[1;32m      2\u001b[0m \u001b[0;34m\u001b[0m\u001b[0m\n\u001b[1;32m      3\u001b[0m \u001b[0mimage_array\u001b[0m \u001b[0;34m=\u001b[0m \u001b[0mcv2\u001b[0m\u001b[0;34m.\u001b[0m\u001b[0mimread\u001b[0m\u001b[0;34m(\u001b[0m\u001b[0minput_image\u001b[0m\u001b[0;34m)\u001b[0m\u001b[0;34m\u001b[0m\u001b[0;34m\u001b[0m\u001b[0m\n\u001b[0;32m----> 4\u001b[0;31m \u001b[0mimage_array\u001b[0m \u001b[0;34m=\u001b[0m \u001b[0mcv2\u001b[0m\u001b[0;34m.\u001b[0m\u001b[0mresize\u001b[0m\u001b[0;34m(\u001b[0m\u001b[0mimage_array\u001b[0m\u001b[0;34m,\u001b[0m \u001b[0;34m(\u001b[0m\u001b[0;36m224\u001b[0m\u001b[0;34m,\u001b[0m \u001b[0;36m224\u001b[0m\u001b[0;34m)\u001b[0m\u001b[0;34m)\u001b[0m\u001b[0;34m\u001b[0m\u001b[0;34m\u001b[0m\u001b[0m\n\u001b[0m\u001b[1;32m      5\u001b[0m \u001b[0;34m\u001b[0m\u001b[0m\n\u001b[1;32m      6\u001b[0m \u001b[0;34m\u001b[0m\u001b[0m\n",
            "\u001b[0;31merror\u001b[0m: OpenCV(4.8.0) /io/opencv/modules/imgproc/src/resize.cpp:4062: error: (-215:Assertion failed) !ssize.empty() in function 'resize'\n"
          ]
        }
      ]
    },
    {
      "cell_type": "code",
      "source": [],
      "metadata": {
        "id": "cgMXWNJFw96i"
      },
      "execution_count": null,
      "outputs": []
    }
  ]
}